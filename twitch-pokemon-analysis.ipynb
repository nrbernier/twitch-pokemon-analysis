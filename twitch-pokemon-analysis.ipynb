{
 "cells": [
  {
   "cell_type": "markdown",
   "metadata": {},
   "source": [
    "# Analysis of the chat logs of Twitch plays Pokémon\n",
    "The log data was found at https://archive.org/details/tpp_logs"
   ]
  },
  {
   "cell_type": "markdown",
   "metadata": {},
   "source": [
    "## imports"
   ]
  },
  {
   "cell_type": "code",
   "execution_count": 30,
   "metadata": {},
   "outputs": [],
   "source": [
    "import pandas as pd\n",
    "import seaborn as sns"
   ]
  },
  {
   "cell_type": "markdown",
   "metadata": {},
   "source": [
    "## data import"
   ]
  },
  {
   "cell_type": "code",
   "execution_count": 6,
   "metadata": {},
   "outputs": [],
   "source": [
    "file = '../../data/tpp_logs/tpp_0.log'\n",
    "with open(file, 'r') as f:\n",
    "    fulltext = f.readlines()"
   ]
  },
  {
   "cell_type": "code",
   "execution_count": 16,
   "metadata": {},
   "outputs": [
    {
     "data": {
      "text/plain": [
       "['2014-02-14 08:16:55', 'kisaisakurai> a\\n']"
      ]
     },
     "execution_count": 16,
     "metadata": {},
     "output_type": "execute_result"
    }
   ],
   "source": [
    "fulltext[505].split(' <', maxsplit=1)"
   ]
  },
  {
   "cell_type": "code",
   "execution_count": 42,
   "metadata": {},
   "outputs": [],
   "source": [
    "# check if join/left information is there\n",
    "for i,l in enumerate(fulltext):\n",
    "    if 'has joined' in l:\n",
    "        print(i,l)\n",
    "        break"
   ]
  },
  {
   "cell_type": "code",
   "execution_count": 62,
   "metadata": {},
   "outputs": [],
   "source": [
    "def treat_line(l):\n",
    "    if not ' -!- ' in l:\n",
    "        time, temp = l.split(' <', maxsplit=1)\n",
    "        user, text = temp.split('> ', maxsplit=1)\n",
    "        text = text.rstrip()\n",
    "        entry_type = 'text'\n",
    "    else:\n",
    "        text = ''\n",
    "        time, temp = l.split(' -!- ', maxsplit=1)\n",
    "        user, temp = temp.split('(', maxsplit=1)\n",
    "        if 'joined' in temp:\n",
    "            entry_type = 'join'\n",
    "        else:\n",
    "            entry_type = 'leave'\n",
    "    return time, user, text, entry_type"
   ]
  },
  {
   "cell_type": "code",
   "execution_count": 21,
   "metadata": {},
   "outputs": [
    {
     "data": {
      "text/plain": [
       "('2014-02-14 08:17:02', 'sundowner11', 'a')"
      ]
     },
     "execution_count": 21,
     "metadata": {},
     "output_type": "execute_result"
    }
   ],
   "source": [
    "treat_line(fulltext[600])"
   ]
  },
  {
   "cell_type": "code",
   "execution_count": 39,
   "metadata": {},
   "outputs": [
    {
     "data": {
      "text/plain": [
       "[('2014-02-14 08:16:47', 'crazypresea', 'a'),\n",
       " ('2014-02-14 08:16:47',\n",
       "  'evilbananaman',\n",
       "  ' ░░░░░▄▄░░░░▄░░░░▄░░░ ░░░░░░█▄░░░█░░█▀░░░░ ░░░░░░░▀█▄░▀░░░░░░░░ ░░░░▄░░░▄▄███▄░░░▄▄░ ░░░▀▀░░▄█░░█░█▄░░░▀█ ░░░░░░░█░░░░░░█░░░░░ ░░░░░░░████████░░░░░ ░░░░░░░█▄▄░░░░█░░░░░ ░░░░░░░█░░░░▀▀█░░░░░ ░░░░░░░█▀▀▀░▄▄█░░░░░ ░░░░░░░█░░░░░░█▄░░░░ ▄▄▄▄██▀▀░░░░░░░▀██░░ ░▄█▀░▀░░░░▄░░░░░░█▄▄ ▀▀█▄▄▄░░░▄██░░░░▄█░░ ░█▀█▄▄▄▄█▀░██▄▄██▄▄░ ░░░░▀░░░▀░░░▀░░░░░░░')]"
      ]
     },
     "execution_count": 39,
     "metadata": {},
     "output_type": "execute_result"
    }
   ],
   "source": [
    "[z for z in map(treat_line, fulltext[400:402])]"
   ]
  },
  {
   "cell_type": "code",
   "execution_count": 67,
   "metadata": {},
   "outputs": [],
   "source": [
    "column_names = ['time', 'user', 'text', 'entry type']\n",
    "df_tpp0 = pd.DataFrame(data = map(treat_line, fulltext), columns=column_names)\n",
    "\n",
    "# convert time column to timestamp\n",
    "df_tpp0[\"time\"] = pd.to_datetime(df_tpp0[\"time\"])"
   ]
  },
  {
   "cell_type": "code",
   "execution_count": 81,
   "metadata": {},
   "outputs": [],
   "source": [
    "df_tpp0.set_index(df_tpp0[\"time\"],inplace=True)"
   ]
  },
  {
   "cell_type": "code",
   "execution_count": 82,
   "metadata": {},
   "outputs": [
    {
     "data": {
      "text/html": [
       "<div>\n",
       "<style scoped>\n",
       "    .dataframe tbody tr th:only-of-type {\n",
       "        vertical-align: middle;\n",
       "    }\n",
       "\n",
       "    .dataframe tbody tr th {\n",
       "        vertical-align: top;\n",
       "    }\n",
       "\n",
       "    .dataframe thead th {\n",
       "        text-align: right;\n",
       "    }\n",
       "</style>\n",
       "<table border=\"1\" class=\"dataframe\">\n",
       "  <thead>\n",
       "    <tr style=\"text-align: right;\">\n",
       "      <th></th>\n",
       "      <th>time</th>\n",
       "      <th>user</th>\n",
       "      <th>text</th>\n",
       "      <th>entry type</th>\n",
       "    </tr>\n",
       "    <tr>\n",
       "      <th>time</th>\n",
       "      <th></th>\n",
       "      <th></th>\n",
       "      <th></th>\n",
       "      <th></th>\n",
       "    </tr>\n",
       "  </thead>\n",
       "  <tbody>\n",
       "    <tr>\n",
       "      <th>2014-02-14 08:16:19</th>\n",
       "      <td>2014-02-14 08:16:19</td>\n",
       "      <td>smedleysc</td>\n",
       "      <td>b</td>\n",
       "      <td>text</td>\n",
       "    </tr>\n",
       "    <tr>\n",
       "      <th>2014-02-14 08:16:19</th>\n",
       "      <td>2014-02-14 08:16:19</td>\n",
       "      <td>a_sleepy_tony</td>\n",
       "      <td>b</td>\n",
       "      <td>text</td>\n",
       "    </tr>\n",
       "    <tr>\n",
       "      <th>2014-02-14 08:16:19</th>\n",
       "      <td>2014-02-14 08:16:19</td>\n",
       "      <td>kenpai</td>\n",
       "      <td>up</td>\n",
       "      <td>text</td>\n",
       "    </tr>\n",
       "    <tr>\n",
       "      <th>2014-02-14 08:16:19</th>\n",
       "      <td>2014-02-14 08:16:19</td>\n",
       "      <td>holabio</td>\n",
       "      <td>right</td>\n",
       "      <td>text</td>\n",
       "    </tr>\n",
       "    <tr>\n",
       "      <th>2014-02-14 08:16:19</th>\n",
       "      <td>2014-02-14 08:16:19</td>\n",
       "      <td>wwwwwwwwwwwwwwwvwwwwwwwww</td>\n",
       "      <td>a</td>\n",
       "      <td>text</td>\n",
       "    </tr>\n",
       "    <tr>\n",
       "      <th>...</th>\n",
       "      <td>...</td>\n",
       "      <td>...</td>\n",
       "      <td>...</td>\n",
       "      <td>...</td>\n",
       "    </tr>\n",
       "    <tr>\n",
       "      <th>2014-02-15 16:51:33</th>\n",
       "      <td>2014-02-15 16:51:33</td>\n",
       "      <td>floraluna</td>\n",
       "      <td>left</td>\n",
       "      <td>text</td>\n",
       "    </tr>\n",
       "    <tr>\n",
       "      <th>2014-02-15 16:51:34</th>\n",
       "      <td>2014-02-15 16:51:34</td>\n",
       "      <td>pokefabri</td>\n",
       "      <td>left</td>\n",
       "      <td>text</td>\n",
       "    </tr>\n",
       "    <tr>\n",
       "      <th>2014-02-15 16:51:34</th>\n",
       "      <td>2014-02-15 16:51:34</td>\n",
       "      <td>eric101101101101</td>\n",
       "      <td>Aa</td>\n",
       "      <td>text</td>\n",
       "    </tr>\n",
       "    <tr>\n",
       "      <th>2014-02-15 16:51:34</th>\n",
       "      <td>2014-02-15 16:51:34</td>\n",
       "      <td>theurnator</td>\n",
       "      <td>right</td>\n",
       "      <td>text</td>\n",
       "    </tr>\n",
       "    <tr>\n",
       "      <th>2014-02-15 16:51:34</th>\n",
       "      <td>2014-02-15 16:51:34</td>\n",
       "      <td>everythingisterribie</td>\n",
       "      <td>dowwn</td>\n",
       "      <td>text</td>\n",
       "    </tr>\n",
       "  </tbody>\n",
       "</table>\n",
       "<p>1016857 rows × 4 columns</p>\n",
       "</div>"
      ],
      "text/plain": [
       "                                   time                       user   text  \\\n",
       "time                                                                        \n",
       "2014-02-14 08:16:19 2014-02-14 08:16:19                  smedleysc      b   \n",
       "2014-02-14 08:16:19 2014-02-14 08:16:19              a_sleepy_tony      b   \n",
       "2014-02-14 08:16:19 2014-02-14 08:16:19                     kenpai     up   \n",
       "2014-02-14 08:16:19 2014-02-14 08:16:19                    holabio  right   \n",
       "2014-02-14 08:16:19 2014-02-14 08:16:19  wwwwwwwwwwwwwwwvwwwwwwwww      a   \n",
       "...                                 ...                        ...    ...   \n",
       "2014-02-15 16:51:33 2014-02-15 16:51:33                  floraluna   left   \n",
       "2014-02-15 16:51:34 2014-02-15 16:51:34                  pokefabri   left   \n",
       "2014-02-15 16:51:34 2014-02-15 16:51:34           eric101101101101     Aa   \n",
       "2014-02-15 16:51:34 2014-02-15 16:51:34                 theurnator  right   \n",
       "2014-02-15 16:51:34 2014-02-15 16:51:34       everythingisterribie  dowwn   \n",
       "\n",
       "                    entry type  \n",
       "time                            \n",
       "2014-02-14 08:16:19       text  \n",
       "2014-02-14 08:16:19       text  \n",
       "2014-02-14 08:16:19       text  \n",
       "2014-02-14 08:16:19       text  \n",
       "2014-02-14 08:16:19       text  \n",
       "...                        ...  \n",
       "2014-02-15 16:51:33       text  \n",
       "2014-02-15 16:51:34       text  \n",
       "2014-02-15 16:51:34       text  \n",
       "2014-02-15 16:51:34       text  \n",
       "2014-02-15 16:51:34       text  \n",
       "\n",
       "[1016857 rows x 4 columns]"
      ]
     },
     "execution_count": 82,
     "metadata": {},
     "output_type": "execute_result"
    }
   ],
   "source": [
    "df_tpp0"
   ]
  },
  {
   "cell_type": "code",
   "execution_count": 69,
   "metadata": {},
   "outputs": [],
   "source": [
    "def display(df):\n",
    "    pd.set_option('display.max_rows', None)\n",
    "    from IPython.core.display import display \n",
    "    display(df)\n",
    "    pd.set_option('display.max_rows', 10)"
   ]
  },
  {
   "cell_type": "code",
   "execution_count": 71,
   "metadata": {},
   "outputs": [],
   "source": [
    "#display(df_tpp0.loc[2000:3000])"
   ]
  },
  {
   "cell_type": "code",
   "execution_count": 44,
   "metadata": {},
   "outputs": [],
   "source": [
    "file = '../../data/tpp_logs/tpp_1.log'\n",
    "with open(file, 'r') as f:\n",
    "    fulltext_1 = f.readlines()\n",
    "    "
   ]
  },
  {
   "cell_type": "code",
   "execution_count": 55,
   "metadata": {},
   "outputs": [
    {
     "name": "stdout",
     "output_type": "stream",
     "text": [
      "243 2014-02-15 16:52 -!- georgeembrr2001(georgeembrr2001@georgeembrr2001.tmi.twitch.tv) has left #twitchplayspokemon\n",
      "\n"
     ]
    }
   ],
   "source": [
    "for i,l in enumerate(fulltext_1):\n",
    "    #if 'has joined' in l:\n",
    "    if '-!-' in l and 'left' in l:\n",
    "        print(i,l)\n",
    "        if i>200:\n",
    "            break"
   ]
  },
  {
   "cell_type": "code",
   "execution_count": 60,
   "metadata": {},
   "outputs": [
    {
     "data": {
      "text/plain": [
       "('2014-02-15 16:52', 'georgeembrr2001', '', 'leave')"
      ]
     },
     "execution_count": 60,
     "metadata": {},
     "output_type": "execute_result"
    }
   ],
   "source": [
    "treat_line(fulltext_1[243])"
   ]
  },
  {
   "cell_type": "code",
   "execution_count": 63,
   "metadata": {},
   "outputs": [],
   "source": [
    "df_tpp1 = pd.DataFrame(data = map(treat_line, fulltext_1), columns=['time', 'user', 'text', 'entry type'])"
   ]
  },
  {
   "cell_type": "code",
   "execution_count": 65,
   "metadata": {},
   "outputs": [
    {
     "data": {
      "text/html": [
       "<div>\n",
       "<style scoped>\n",
       "    .dataframe tbody tr th:only-of-type {\n",
       "        vertical-align: middle;\n",
       "    }\n",
       "\n",
       "    .dataframe tbody tr th {\n",
       "        vertical-align: top;\n",
       "    }\n",
       "\n",
       "    .dataframe thead th {\n",
       "        text-align: right;\n",
       "    }\n",
       "</style>\n",
       "<table border=\"1\" class=\"dataframe\">\n",
       "  <thead>\n",
       "    <tr style=\"text-align: right;\">\n",
       "      <th></th>\n",
       "      <th>time</th>\n",
       "      <th>user</th>\n",
       "      <th>text</th>\n",
       "      <th>entry type</th>\n",
       "    </tr>\n",
       "  </thead>\n",
       "  <tbody>\n",
       "    <tr>\n",
       "      <th>0</th>\n",
       "      <td>2014-02-15 16:51</td>\n",
       "      <td>sanquiitest</td>\n",
       "      <td></td>\n",
       "      <td>join</td>\n",
       "    </tr>\n",
       "    <tr>\n",
       "      <th>1</th>\n",
       "      <td>2014-02-15 16:51</td>\n",
       "      <td>anonymousv8</td>\n",
       "      <td>right</td>\n",
       "      <td>text</td>\n",
       "    </tr>\n",
       "    <tr>\n",
       "      <th>2</th>\n",
       "      <td>2014-02-15 16:51</td>\n",
       "      <td>copisilver</td>\n",
       "      <td>up</td>\n",
       "      <td>text</td>\n",
       "    </tr>\n",
       "    <tr>\n",
       "      <th>3</th>\n",
       "      <td>2014-02-15 16:51</td>\n",
       "      <td>w07fan</td>\n",
       "      <td>b</td>\n",
       "      <td>text</td>\n",
       "    </tr>\n",
       "    <tr>\n",
       "      <th>4</th>\n",
       "      <td>2014-02-15 16:51</td>\n",
       "      <td>iamtheunicornwizard</td>\n",
       "      <td>up</td>\n",
       "      <td>text</td>\n",
       "    </tr>\n",
       "  </tbody>\n",
       "</table>\n",
       "</div>"
      ],
      "text/plain": [
       "               time                 user   text entry type\n",
       "0  2014-02-15 16:51          sanquiitest              join\n",
       "1  2014-02-15 16:51          anonymousv8  right       text\n",
       "2  2014-02-15 16:51           copisilver     up       text\n",
       "3  2014-02-15 16:51               w07fan      b       text\n",
       "4  2014-02-15 16:51  iamtheunicornwizard     up       text"
      ]
     },
     "execution_count": 65,
     "metadata": {},
     "output_type": "execute_result"
    }
   ],
   "source": [
    "df_tpp1.head()"
   ]
  },
  {
   "cell_type": "markdown",
   "metadata": {},
   "source": [
    "### Combine all data"
   ]
  },
  {
   "cell_type": "code",
   "execution_count": 108,
   "metadata": {},
   "outputs": [],
   "source": [
    "files = ['../../data/tpp_logs/tpp_{}.log'.format(i) for i in range(4)]\n",
    "column_names = ['time', 'user', 'text', 'entry type']\n",
    "df_tpp = pd.DataFrame(columns=column_names)\n",
    "for file in files:\n",
    "    with open(file, 'r') as f:\n",
    "        fulltext = f.readlines()\n",
    "    df_temp = pd.DataFrame(data=map(treat_line, fulltext), columns=column_names)\n",
    "    df_tpp = df_tpp.append(other = df_temp)\n",
    "# convert time column to timestamp\n",
    "df_tpp[\"time\"] = pd.to_datetime(df_tpp[\"time\"])"
   ]
  },
  {
   "cell_type": "code",
   "execution_count": null,
   "metadata": {},
   "outputs": [],
   "source": []
  },
  {
   "cell_type": "code",
   "execution_count": 109,
   "metadata": {},
   "outputs": [
    {
     "data": {
      "text/html": [
       "<div>\n",
       "<style scoped>\n",
       "    .dataframe tbody tr th:only-of-type {\n",
       "        vertical-align: middle;\n",
       "    }\n",
       "\n",
       "    .dataframe tbody tr th {\n",
       "        vertical-align: top;\n",
       "    }\n",
       "\n",
       "    .dataframe thead th {\n",
       "        text-align: right;\n",
       "    }\n",
       "</style>\n",
       "<table border=\"1\" class=\"dataframe\">\n",
       "  <thead>\n",
       "    <tr style=\"text-align: right;\">\n",
       "      <th></th>\n",
       "      <th>time</th>\n",
       "      <th>user</th>\n",
       "      <th>text</th>\n",
       "      <th>entry type</th>\n",
       "    </tr>\n",
       "  </thead>\n",
       "  <tbody>\n",
       "    <tr>\n",
       "      <th>0</th>\n",
       "      <td>2014-02-14 08:16:19</td>\n",
       "      <td>smedleysc</td>\n",
       "      <td>b</td>\n",
       "      <td>text</td>\n",
       "    </tr>\n",
       "    <tr>\n",
       "      <th>1</th>\n",
       "      <td>2014-02-14 08:16:19</td>\n",
       "      <td>a_sleepy_tony</td>\n",
       "      <td>b</td>\n",
       "      <td>text</td>\n",
       "    </tr>\n",
       "    <tr>\n",
       "      <th>2</th>\n",
       "      <td>2014-02-14 08:16:19</td>\n",
       "      <td>kenpai</td>\n",
       "      <td>up</td>\n",
       "      <td>text</td>\n",
       "    </tr>\n",
       "    <tr>\n",
       "      <th>3</th>\n",
       "      <td>2014-02-14 08:16:19</td>\n",
       "      <td>holabio</td>\n",
       "      <td>right</td>\n",
       "      <td>text</td>\n",
       "    </tr>\n",
       "    <tr>\n",
       "      <th>4</th>\n",
       "      <td>2014-02-14 08:16:19</td>\n",
       "      <td>wwwwwwwwwwwwwwwvwwwwwwwww</td>\n",
       "      <td>a</td>\n",
       "      <td>text</td>\n",
       "    </tr>\n",
       "    <tr>\n",
       "      <th>...</th>\n",
       "      <td>...</td>\n",
       "      <td>...</td>\n",
       "      <td>...</td>\n",
       "      <td>...</td>\n",
       "    </tr>\n",
       "    <tr>\n",
       "      <th>19129523</th>\n",
       "      <td>2014-03-02 10:05:22</td>\n",
       "      <td>vulveteer</td>\n",
       "      <td>Who will be the new Bird Jesus? Maybe it'll be...</td>\n",
       "      <td>text</td>\n",
       "    </tr>\n",
       "    <tr>\n",
       "      <th>19129524</th>\n",
       "      <td>2014-03-02 10:05:22</td>\n",
       "      <td>iatias</td>\n",
       "      <td>guys what did i miss</td>\n",
       "      <td>text</td>\n",
       "    </tr>\n",
       "    <tr>\n",
       "      <th>19129525</th>\n",
       "      <td>2014-03-02 10:05:22</td>\n",
       "      <td>thebatmann58</td>\n",
       "      <td>lol i say we sacrifice the next starter to the...</td>\n",
       "      <td>text</td>\n",
       "    </tr>\n",
       "    <tr>\n",
       "      <th>19129526</th>\n",
       "      <td>2014-03-02 10:05:23</td>\n",
       "      <td>razz0104</td>\n",
       "      <td>Lol ANARCHY in the Ice Caves?</td>\n",
       "      <td>text</td>\n",
       "    </tr>\n",
       "    <tr>\n",
       "      <th>19129527</th>\n",
       "      <td>2014-03-02 10:05:24</td>\n",
       "      <td>ultracash</td>\n",
       "      <td>never a new religion helix 4ever</td>\n",
       "      <td>text</td>\n",
       "    </tr>\n",
       "  </tbody>\n",
       "</table>\n",
       "<p>39599436 rows × 4 columns</p>\n",
       "</div>"
      ],
      "text/plain": [
       "                        time                       user  \\\n",
       "0        2014-02-14 08:16:19                  smedleysc   \n",
       "1        2014-02-14 08:16:19              a_sleepy_tony   \n",
       "2        2014-02-14 08:16:19                     kenpai   \n",
       "3        2014-02-14 08:16:19                    holabio   \n",
       "4        2014-02-14 08:16:19  wwwwwwwwwwwwwwwvwwwwwwwww   \n",
       "...                      ...                        ...   \n",
       "19129523 2014-03-02 10:05:22                  vulveteer   \n",
       "19129524 2014-03-02 10:05:22                     iatias   \n",
       "19129525 2014-03-02 10:05:22               thebatmann58   \n",
       "19129526 2014-03-02 10:05:23                   razz0104   \n",
       "19129527 2014-03-02 10:05:24                  ultracash   \n",
       "\n",
       "                                                       text entry type  \n",
       "0                                                         b       text  \n",
       "1                                                         b       text  \n",
       "2                                                        up       text  \n",
       "3                                                     right       text  \n",
       "4                                                         a       text  \n",
       "...                                                     ...        ...  \n",
       "19129523  Who will be the new Bird Jesus? Maybe it'll be...       text  \n",
       "19129524                               guys what did i miss       text  \n",
       "19129525  lol i say we sacrifice the next starter to the...       text  \n",
       "19129526                      Lol ANARCHY in the Ice Caves?       text  \n",
       "19129527                   never a new religion helix 4ever       text  \n",
       "\n",
       "[39599436 rows x 4 columns]"
      ]
     },
     "execution_count": 109,
     "metadata": {},
     "output_type": "execute_result"
    }
   ],
   "source": [
    "df_tpp"
   ]
  },
  {
   "cell_type": "markdown",
   "metadata": {},
   "source": [
    "## Explore data"
   ]
  },
  {
   "cell_type": "code",
   "execution_count": 112,
   "metadata": {},
   "outputs": [
    {
     "data": {
      "text/plain": [
       "<matplotlib.axes._subplots.AxesSubplot at 0x2e39b53d0>"
      ]
     },
     "execution_count": 112,
     "metadata": {},
     "output_type": "execute_result"
    },
    {
     "data": {
      "image/png": "[encoded data removed]",
      "text/plain": [
       "<Figure size 432x288 with 1 Axes>"
      ]
     },
     "metadata": {
      "needs_background": "light"
     },
     "output_type": "display_data"
    }
   ],
   "source": [
    "data=df_tpp.resample('H',on='time').count()\n",
    "sns.lineplot(data=data, x=data.index, y='time')"
   ]
  },
  {
   "cell_type": "code",
   "execution_count": 111,
   "metadata": {},
   "outputs": [
    {
     "data": {
      "text/html": [
       "<div>\n",
       "<style scoped>\n",
       "    .dataframe tbody tr th:only-of-type {\n",
       "        vertical-align: middle;\n",
       "    }\n",
       "\n",
       "    .dataframe tbody tr th {\n",
       "        vertical-align: top;\n",
       "    }\n",
       "\n",
       "    .dataframe thead th {\n",
       "        text-align: right;\n",
       "    }\n",
       "</style>\n",
       "<table border=\"1\" class=\"dataframe\">\n",
       "  <thead>\n",
       "    <tr style=\"text-align: right;\">\n",
       "      <th></th>\n",
       "      <th>time</th>\n",
       "      <th>user</th>\n",
       "      <th>text</th>\n",
       "      <th>entry type</th>\n",
       "    </tr>\n",
       "  </thead>\n",
       "  <tbody>\n",
       "    <tr>\n",
       "      <th>count</th>\n",
       "      <td>39599436</td>\n",
       "      <td>39599436</td>\n",
       "      <td>39599436</td>\n",
       "      <td>39599436</td>\n",
       "    </tr>\n",
       "    <tr>\n",
       "      <th>unique</th>\n",
       "      <td>902939</td>\n",
       "      <td>1813561</td>\n",
       "      <td>1334353</td>\n",
       "      <td>3</td>\n",
       "    </tr>\n",
       "    <tr>\n",
       "      <th>top</th>\n",
       "      <td>2014-02-17 01:15:00</td>\n",
       "      <td>bas3dh3l1x</td>\n",
       "      <td></td>\n",
       "      <td>text</td>\n",
       "    </tr>\n",
       "    <tr>\n",
       "      <th>freq</th>\n",
       "      <td>7137</td>\n",
       "      <td>18328</td>\n",
       "      <td>23434454</td>\n",
       "      <td>16165021</td>\n",
       "    </tr>\n",
       "    <tr>\n",
       "      <th>first</th>\n",
       "      <td>2014-02-14 08:16:19</td>\n",
       "      <td>NaN</td>\n",
       "      <td>NaN</td>\n",
       "      <td>NaN</td>\n",
       "    </tr>\n",
       "    <tr>\n",
       "      <th>last</th>\n",
       "      <td>2014-03-02 10:05:24</td>\n",
       "      <td>NaN</td>\n",
       "      <td>NaN</td>\n",
       "      <td>NaN</td>\n",
       "    </tr>\n",
       "  </tbody>\n",
       "</table>\n",
       "</div>"
      ],
      "text/plain": [
       "                       time        user      text entry type\n",
       "count              39599436    39599436  39599436   39599436\n",
       "unique               902939     1813561   1334353          3\n",
       "top     2014-02-17 01:15:00  bas3dh3l1x                 text\n",
       "freq                   7137       18328  23434454   16165021\n",
       "first   2014-02-14 08:16:19         NaN       NaN        NaN\n",
       "last    2014-03-02 10:05:24         NaN       NaN        NaN"
      ]
     },
     "execution_count": 111,
     "metadata": {},
     "output_type": "execute_result"
    }
   ],
   "source": [
    "df_tpp.describe()"
   ]
  },
  {
   "cell_type": "code",
   "execution_count": null,
   "metadata": {},
   "outputs": [],
   "source": []
  }
 ],
 "metadata": {
  "kernelspec": {
   "display_name": "Python 3",
   "language": "python",
   "name": "python3"
  },
  "language_info": {
   "codemirror_mode": {
    "name": "ipython",
    "version": 3
   },
   "file_extension": ".py",
   "mimetype": "text/x-python",
   "name": "python",
   "nbconvert_exporter": "python",
   "pygments_lexer": "ipython3",
   "version": "3.7.5"
  }
 },
 "nbformat": 4,
 "nbformat_minor": 4
}
